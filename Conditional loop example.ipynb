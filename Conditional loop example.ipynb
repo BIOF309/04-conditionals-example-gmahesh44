{
 "cells": [
  {
   "cell_type": "code",
   "execution_count": null,
   "metadata": {
    "collapsed": true
   },
   "outputs": [],
   "source": [
    "seq =\"\"\"AUGCUGUCUCCCUCACUGUAUGUAAAUUGCAUCUAGAAUAGCA\n",
    "UCUGGAGCACUAAUUGACACAUAGUGGGUAUCAAUUAUUA\n",
    "UUCCAGGUACUAGAGAUACCUGGACCAUUAACGGAUAAAU\n",
    "AGAAGAUUCAUUUGUUGAGUGACUGAGGAUGGCAGUUCCU\n",
    "GCUACCUUCAAGGAUCUGGAUGAUGGGGAGAAACAGAGAA\n",
    "CAUAGUGUGAGAAUACUGUGGUAAGGAAAGUACAGAGGAC\n",
    "UGGUAGAGUGUCUAACCUAGAUUUGGAGAAGGACCUAGAA\n",
    "GUCUAUCCCAGGGAAAUAAAAAUCUAAGCUAAGGUUUGAG\n",
    "GAAUCAGUAGGAAUUGGCAAAGGAAGGACAUGUUCCAGAU\n",
    "GAUAGGAACAGGUUAUGCAAAGAUCCUGAAAUGGUCAGAG\n",
    "CUUGGUGCUUUUUGAGAACCAAAAGUAGAUUGUUAUGGAC\n",
    "CAGUGCUACUCCCUGCCUCUUGCCAAGGGACCCCGCCAAG\n",
    "CACUGCAUCCCUUCCCUCUGACUCCACCUUUCCACUUGCC\n",
    "CAGUAUUGUUGGUG\"\"\""
   ]
  },
  {
   "cell_type": "code",
   "execution_count": null,
   "metadata": {
    "collapsed": true
   },
   "outputs": [],
   "source": [
    "seq = seq.replace(\"\\n\",\"\")"
   ]
  },
  {
   "cell_type": "code",
   "execution_count": null,
   "metadata": {
    "collapsed": true
   },
   "outputs": [],
   "source": [
    "countStart = 0\n",
    "countStop = 0"
   ]
  },
  {
   "cell_type": "code",
   "execution_count": null,
   "metadata": {
    "collapsed": true
   },
   "outputs": [],
   "source": [
    "newSeq = \"\"\n",
    "i = 0\n",
    "while i < len(seq):\n",
    "    codon = seq[i:i+3]\n",
    "    if(codon == \"AUG\"):\n",
    "        countStart = countStart + 1\n",
    "    elif(codon == \"UAA\" or  codon == \"UAG\" or codon == \"UGA\"):\n",
    "        countStop = countStop + 1\n",
    "    else:\n",
    "        codon = \"___\"\n",
    "        newSeq = newSeq + codon\n",
    "        i = i + 3\n",
    "        print(\"\\nNumber of start codons:\", countStart)\n",
    "        print(\"Number of stop codons:\", countStop)\n",
    "        print(\"\\n\")\n",
    "        print(seq)\n",
    "        print(\"\\n\")\n",
    "        print(newSeq)"
   ]
  },
  {
   "cell_type": "code",
   "execution_count": null,
   "metadata": {
    "collapsed": true
   },
   "outputs": [],
   "source": [
    "DNA = \"GATTACATATATCAGTACAGATATATACGCGCGGGCTTACTATTAAAAACCCC\""
   ]
  },
  {
   "cell_type": "code",
   "execution_count": null,
   "metadata": {
    "collapsed": true
   },
   "outputs": [],
   "source": [
    "revComp = \"\"\n",
    "for base in DNA:\n",
    "    if (base == \"T\"):\n",
    "        revComp = \"A\" + revComp\n",
    "    elif (base == \"A\"):\n",
    "        revComp = \"T\" + revComp\n",
    "    elif (base == \"C\"):\n",
    "        revComp == \"G\" + revComp\n",
    "    elif (base == \"G\"):\n",
    "        revComp = \"C\" + revComp\n",
    "    else:\n",
    "        revComp = \"N\" + revComp\n",
    "        print(\"5\\'_\", DNA, \"-3\\'\")\n",
    "        print(\"3\\'_\", revComp, \"-5\\'\")"
   ]
  },
  {
   "cell_type": "code",
   "execution_count": null,
   "metadata": {},
   "outputs": [],
   "source": [
    "DNA"
   ]
  },
  {
   "cell_type": "raw",
   "metadata": {},
   "source": [
    "print(revComp)"
   ]
  },
  {
   "cell_type": "code",
   "execution_count": null,
   "metadata": {
    "collapsed": true
   },
   "outputs": [],
   "source": []
  }
 ],
 "metadata": {
  "kernelspec": {
   "display_name": "Python 3",
   "language": "python",
   "name": "python3"
  },
  "language_info": {
   "codemirror_mode": {
    "name": "ipython",
    "version": 3
   },
   "file_extension": ".py",
   "mimetype": "text/x-python",
   "name": "python",
   "nbconvert_exporter": "python",
   "pygments_lexer": "ipython3",
   "version": "3.6.2"
  }
 },
 "nbformat": 4,
 "nbformat_minor": 2
}
